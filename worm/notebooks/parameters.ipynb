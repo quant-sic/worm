{
 "cells": [
  {
   "cell_type": "code",
   "execution_count": 9,
   "metadata": {},
   "outputs": [
    {
     "name": "stdout",
     "output_type": "stream",
     "text": [
      "<HDF5 dataset \"model\": shape (), type \"|S10\">\n"
     ]
    }
   ],
   "source": [
    "import h5py\n",
    "import numpy as np\n",
    "\n",
    "d = {'model':\"BoseHubbard\",\n",
    " 'runtimelimit': 900,\n",
    " 'sweeps': 100000,\n",
    " 'thermalization': 100,\n",
    " 'Lx': 4,\n",
    " 'Ly': 4,\n",
    " 'Lz': 1,\n",
    " 'pbcx': 1,\n",
    " 'pbcy': 1,\n",
    " 'pbcz': 1,\n",
    " 't_hop': 1.0,\n",
    " 'U_on': 4.0,\n",
    " 'V_nn': 0.0,\n",
    " 'mu': 0.7,\n",
    " 'beta': 20.0,\n",
    " 'nmax': 5,\n",
    " 'E_off': 1.0,\n",
    " 'canonical': -1,\n",
    " 'seed': 30,\n",
    " 'Ntest': 10000000,\n",
    " 'Nsave': 100000000,\n",
    " 'Nmeasure': 1,\n",
    " 'Nmeasure2': 10,\n",
    " 'C_worm': 2.0,\n",
    " 'p_insertworm': 1.0,\n",
    " 'p_moveworm': 0.3,\n",
    " 'p_insertkink': 0.2,\n",
    " 'p_deletekink': 0.2,\n",
    " 'p_glueworm': 0.3}\n",
    "\n",
    "with h5py.File('test_pars.h5', 'w') as file:\n",
    "\n",
    "    for k,v in d.items():\n",
    "\n",
    "        if isinstance(v,float):\n",
    "            datatype = np.dtype(\"f8\")\n",
    "        elif isinstance(v,int):\n",
    "            datatype = np.dtype(\"u8\")\n",
    "        elif isinstance(v,str):\n",
    "            datatype = np.dtype(\"S10\")\n",
    "\n",
    "        file.create_dataset(f\"parameters/{k}\",data=v,dtype=datatype)\n",
    "\n",
    "    #file.close()\n",
    "\n",
    "    print(file[\"parameters/model\"])"
   ]
  },
  {
   "cell_type": "code",
   "execution_count": 2,
   "metadata": {},
   "outputs": [],
   "source": [
    "import h5py\n",
    "\n",
    "#f = h5py.File(\"../build/test/in.h5\", 'r')\n",
    "\n",
    "with h5py.File('../build/test/in.h5', 'a') as file:\n",
    "    del file[\"parameters/checkpoint\"]\n",
    "    del file[\"parameters/outputfile\"]\n"
   ]
  },
  {
   "cell_type": "code",
   "execution_count": 12,
   "metadata": {},
   "outputs": [],
   "source": [
    "import numpy as np\n",
    "import h5py\n",
    "\n",
    "with h5py.File('../site_arrays/sites_test.h5', 'w') as file:\n",
    "\n",
    "    file[\"/scalars/double\"]=3.5\n",
    "    file[\"/vectors/double\"]=np.array([1.0,2.0,3.0])\n",
    "\n",
    "    mu = np.ones((16,16))\n",
    "    mu[:8,:8] = 0.0\n",
    "    file[\"/mu\"] = mu.flatten()"
   ]
  },
  {
   "cell_type": "code",
   "execution_count": 10,
   "metadata": {},
   "outputs": [
    {
     "data": {
      "text/plain": [
       "(256,)"
      ]
     },
     "execution_count": 10,
     "metadata": {},
     "output_type": "execute_result"
    }
   ],
   "source": [
    "np.random.rand(16*16)"
   ]
  },
  {
   "cell_type": "code",
   "execution_count": 14,
   "metadata": {},
   "outputs": [
    {
     "data": {
      "text/plain": [
       "<matplotlib.image.AxesImage at 0x13002a740>"
      ]
     },
     "execution_count": 14,
     "metadata": {},
     "output_type": "execute_result"
    },
    {
     "data": {
      "image/png": "[encoded data removed]",
      "text/plain": [
       "<Figure size 640x480 with 1 Axes>"
      ]
     },
     "metadata": {},
     "output_type": "display_data"
    }
   ],
   "source": [
    "from matplotlib import pyplot as plt\n",
    "plt.imshow(mu)"
   ]
  },
  {
   "cell_type": "code",
   "execution_count": null,
   "metadata": {},
   "outputs": [],
   "source": []
  }
 ],
 "metadata": {
  "kernelspec": {
   "display_name": "aub-env",
   "language": "python",
   "name": "python3"
  },
  "language_info": {
   "codemirror_mode": {
    "name": "ipython",
    "version": 3
   },
   "file_extension": ".py",
   "mimetype": "text/x-python",
   "name": "python",
   "nbconvert_exporter": "python",
   "pygments_lexer": "ipython3",
   "version": "3.10.8"
  },
  "orig_nbformat": 4
 },
 "nbformat": 4,
 "nbformat_minor": 2
}
