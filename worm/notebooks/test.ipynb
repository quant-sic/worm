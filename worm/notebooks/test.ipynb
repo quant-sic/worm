{
 "cells": [
  {
   "cell_type": "code",
   "execution_count": 2,
   "metadata": {},
   "outputs": [
    {
     "name": "stdout",
     "output_type": "stream",
     "text": [
      "# Simulation of the Bose-Hubbard or the XXZ model with the worm algorithm\n",
      "\n",
      "# Copyright (C) 2021  Jonas Greitemann, Nicolas Sadoune and Lode Pollet\n",
      "# This program is free software: you can redistribute it and/or modify\n",
      "# it under the terms of the GNU General Public License as published by\n",
      "# the Free Software Foundation, either version 3 of the License, or\n",
      "# (at your option) any later version.\n",
      "# This program is distributed in the hope that it will be useful,\n",
      "# but WITHOUT ANY WARRANTY; without even the implied warranty of\n",
      "# MERCHANTABILITY or FITNESS FOR A PARTICULAR PURPOSE.  See the\n",
      "# GNU General Public License for more details.\n",
      "# You should have received a copy of the GNU General Public License\n",
      "# along with this program.  If not, see <http://www.gnu.org/licenses/>.\n",
      "\n",
      "# Initializing parameters...\n",
      "# Constructing worm on rank 1\n",
      "# Constructing worm on rank 6\n",
      "# Constructing worm on rank 0\n",
      "# Constructing worm on rank 3\n",
      "# Constructing worm on rank 5\n",
      "# Constructing worm on rank 7\n",
      "# Constructing worm on rank 8\n",
      "# Constructing worm on rank 9\n",
      "# Constructing worm on rank 2\n",
      "# Constructing worm on rank 4\n",
      "# Potential Energy tot : 463\n",
      "# Finished intializing.\n",
      "# Running simulation on rank 1\n",
      "# Potential Energy tot : 463\n",
      "# Finished intializing.\n",
      "# Running simulation on rank 2\n",
      "# Potential Energy tot : 463\n",
      "# Finished intializing.\n",
      "# Running simulation on rank 3\n",
      "# Potential Energy tot : 463\n",
      "# Finished intializing.\n",
      "# Running simulation on rank 4\n",
      "# Potential Energy tot : 463\n",
      "# Finished intializing.\n",
      "# Running simulation on rank 5\n",
      "# Potential Energy tot : 463\n",
      "# Finished intializing.\n",
      "# Running simulation on rank 6\n",
      "# Potential Energy tot : 463\n",
      "# Finished intializing.\n",
      "# Running simulation on rank 7\n",
      "# Potential Energy tot : 463\n",
      "# Finished intializing.\n",
      "# Running simulation on rank 8\n",
      "# Potential Energy tot : 463\n",
      "# Finished intializing.\n",
      "# Running simulation on rank 9\n",
      "# Potential Energy tot : 463\n",
      "# Finished intializing.\n",
      "\n",
      "# Simulation parameters:\n",
      "# config : UNIFORM                                  : no\n",
      "# config : CWINDOW                                  : no\n",
      "# config : DSTRUC                                   : LIST\n",
      "# run time limit                                    : 10000\n",
      "# reset statistics when restored (requires hack)    : 0\n",
      "# maximum number of sweeps                          : 10000\n",
      "# maximum number of sweeps for thermalization       : 1000\n",
      "# inverse temperature                               : 20\n",
      "# canonical measurement value                       : -1\n",
      "# random number seed                                : 30\n",
      "# Ntest                                             : 10000000\n",
      "# Nsave                                             : 100000000\n",
      "# Nmeasure O(1)                                     : 1\n",
      "# Nmeasure O(N)                                     : 10\n",
      "# energy shift                                      : 1\n",
      "# weight worm configurations                        : 2\n",
      "# update probability insert worm                    : 1\t1\n",
      "# update probability move worm                      : 0.3\t0.3\n",
      "# update probability insert kink                    : 0.2\t0.5\n",
      "# update probability delete kink                    : 0.2\t0.7\n",
      "# update probability glue worm                      : 0.3\t1\n",
      "# lattice: Name                                     : square\n",
      "# lattice: dim                                      : 2\n",
      "# lattice: pbcx                                     : 1\n",
      "# lattice: pbcy                                     : 1\n",
      "# lattice: pbcz                                     : 0\n",
      "# lattice: length                                   : Lx, Ly, Lz  16\t16\t1\tnum Sites  256\tnum Bonds  512\n",
      "# model : name                                      : BoseHubbard\n",
      "# model : nmin, nmax                                : 0\t3\n",
      "# User specified inhomogeneous parameters:\n",
      "# model : U_on                                      : 2 2 2 2 2 2 2 2 2 2 2 2 2 2 2 2 2 2 2 2 2 2 2 2 2 2 2 2 2 2 2 2 2 2 2 2 2 2 2 2 2 2 2 2 2 2 2 2 2 2 2 2 2 2 2 2 2 2 2 2 2 2 2 2 2 2 2 2 2 2 2 2 2 2 2 2 2 2 2 2 2 2 2 2 2 2 2 2 2 2 2 2 2 2 2 2 2 2 2 2 2 2 2 2 2 2 2 2 2 2 2 2 2 2 2 2 2 2 2 2 2 2 2 2 2 2 2 2 2 2 2 2 2 2 2 2 2 2 2 2 2 2 2 2 2 2 2 2 2 2 2 2 2 2 2 2 2 2 2 2 2 2 2 2 2 2 2 2 2 2 2 2 2 2 2 2 2 2 2 2 2 2 2 2 2 2 2 2 2 2 2 2 2 2 2 2 2 2 2 2 2 2 2 2 2 2 2 2 2 2 2 2 2 2 2 2 2 2 2 2 2 2 2 2 2 2 2 2 2 2 2 2 2 2 2 2 2 2 2 2 2 2 2 2 2 2 2 2 2 2 2 2 2 2 2 2 \n",
      "# model : V_nn                                      : 1 1 1 1 1 1 1 1 1 1 1 1 1 1 1 1 1 1 1 1 1 1 1 1 1 1 1 1 1 1 1 1 1 1 1 1 1 1 1 1 1 1 1 1 1 1 1 1 1 1 1 1 1 1 1 1 1 1 1 1 1 1 1 1 1 1 1 1 1 1 1 1 1 1 1 1 1 1 1 1 1 1 1 1 1 1 1 1 1 1 1 1 1 1 1 1 1 1 1 1 1 1 1 1 1 1 1 1 1 1 1 1 1 1 1 1 1 1 1 1 1 1 1 1 1 1 1 1 1 1 1 1 1 1 1 1 1 1 1 1 1 1 1 1 1 1 1 1 1 1 1 1 1 1 1 1 1 1 1 1 1 1 1 1 1 1 1 1 1 1 1 1 1 1 1 1 1 1 1 1 1 1 1 1 1 1 1 1 1 1 1 1 1 1 1 1 1 1 1 1 1 1 1 1 1 1 1 1 1 1 1 1 1 1 1 1 1 1 1 1 1 1 1 1 1 1 1 1 1 1 1 1 1 1 1 1 1 1 1 1 1 1 1 1 1 1 1 1 1 1 1 1 1 1 1 1 1 1 1 1 1 1 1 1 1 1 1 1 1 1 1 1 1 1 1 1 1 1 1 1 1 1 1 1 1 1 1 1 1 1 1 1 1 1 1 1 1 1 1 1 1 1 1 1 1 1 1 1 1 1 1 1 1 1 1 1 1 1 1 1 1 1 1 1 1 1 1 1 1 1 1 1 1 1 1 1 1 1 1 1 1 1 1 1 1 1 1 1 1 1 1 1 1 1 1 1 1 1 1 1 1 1 1 1 1 1 1 1 1 1 1 1 1 1 1 1 1 1 1 1 1 1 1 1 1 1 1 1 1 1 1 1 1 1 1 1 1 1 1 1 1 1 1 1 1 1 1 1 1 1 1 1 1 1 1 1 1 1 1 1 1 1 1 1 1 1 1 1 1 1 1 1 1 1 1 1 1 1 1 1 1 1 1 1 1 1 1 1 1 1 1 1 1 1 1 1 1 1 1 1 1 1 1 1 1 1 1 1 1 1 1 1 1 1 1 1 1 1 1 1 1 1 1 1 1 1 1 1 1 1 1 1 1 1 1 1 1 1 1 1 1 1 1 1 1 1 1 1 1 1 1 1 \n",
      "# model : mu                                        : 0 0 0 0 0 0 0 0 0 0 0 0 0 0 0 0 0 0 0 0 0 0 0 0 0 0 0 0 0 0 0 0 0 0 0 0 0 0 0 0 0 0 0 0 0 0 0 0 0 0 0 1 1 1 1 1 1 1 0 0 0 0 0 0 0 0 0 1 1 1 1 1 1 1 0 0 0 0 0 0 0 0 0 1 1 1 1 1 1 1 0 0 0 0 0 0 0 0 0 1 1 1 1 1 1 1 0 0 0 0 0 0 0 0 0 1 1 1 1 1 1 1 0 0 0 0 0 0 0 0 0 1 1 1 1 1 1 1 0 0 0 0 0 0 0 0 0 1 1 1 1 1 1 1 0 0 0 0 0 0 0 0 0 0 0 0 0 0 0 0 0 0 0 0 0 0 0 0 0 0 0 0 0 0 0 0 0 0 0 0 0 0 0 0 0 0 0 0 0 0 0 0 0 0 0 0 0 0 0 0 0 0 0 0 0 0 0 0 0 0 0 0 0 0 0 0 0 0 0 0 0 0 0 0 0 0 0 0 0 0 0 0 0 0 0 0 0 0 0 0 0 0 0 0 0 0 \n",
      "# model : t_hop                                     : 0.5 0.5 0.5 0.5 0.5 0.5 0.5 0.5 0.5 0.5 0.5 0.5 0.5 0.5 0.5 0.5 0.5 0.5 0.5 0.5 0.5 0.5 0.5 0.5 0.5 0.5 0.5 0.5 0.5 0.5 0.5 0.5 0.5 0.5 0.5 0.5 0.5 0.5 0.5 0.5 0.5 0.5 0.5 0.5 0.5 0.5 0.5 0.5 0.5 0.5 0.5 0.5 0.5 0.5 0.5 0.5 0.5 0.5 0.5 0.5 0.5 0.5 0.5 0.5 0.5 0.5 0.5 0.5 0.5 0.5 0.5 0.5 0.5 0.5 0.5 0.5 0.5 0.5 0.5 0.5 0.5 0.5 0.5 0.5 0.5 0.5 0.5 0.5 0.5 0.5 0.5 0.5 0.5 0.5 0.5 0.5 0.5 0.5 0.5 0.5 0.5 0.5 0.5 0.5 0.5 0.5 0.5 0.5 0.5 0.5 0.5 0.5 0.5 0.5 0.5 0.5 0.5 0.5 0.5 0.5 0.5 0.5 0.5 0.5 0.5 0.5 0.5 0.5 0.5 0.5 0.5 0.5 0.5 0.5 0.5 0.5 0.5 0.5 0.5 0.5 0.5 0.5 0.5 0.5 0.5 0.5 0.5 0.5 0.5 0.5 0.5 0.5 0.5 0.5 0.5 0.5 0.5 0.5 0.5 0.5 0.5 0.5 0.5 0.5 0.5 0.5 0.5 0.5 0.5 0.5 0.5 0.5 0.5 0.5 0.5 0.5 0.5 0.5 0.5 0.5 0.5 0.5 0.5 0.5 0.5 0.5 0.5 0.5 0.5 0.5 0.5 0.5 0.5 0.5 0.5 0.5 0.5 0.5 0.5 0.5 0.5 0.5 0.5 0.5 0.5 0.5 0.5 0.5 0.5 0.5 0.5 0.5 0.5 0.5 0.5 0.5 0.5 0.5 0.5 0.5 0.5 0.5 0.5 0.5 0.5 0.5 0.5 0.5 0.5 0.5 0.5 0.5 0.5 0.5 0.5 0.5 0.5 0.5 0.5 0.5 0.5 0.5 0.5 0.5 0.5 0.5 0.5 0.5 0.5 0.5 0.5 0.5 0.5 0.5 0.5 0.5 0.5 0.5 0.5 0.5 0.5 0.5 0.5 0.5 0.5 0.5 0.5 0.5 0.5 0.5 0.5 0.5 0.5 0.5 0.5 0.5 0.5 0.5 0.5 0.5 0.5 0.5 0.5 0.5 0.5 0.5 0.5 0.5 0.5 0.5 0.5 0.5 0.5 0.5 0.5 0.5 0.5 0.5 0.5 0.5 0.5 0.5 0.5 0.5 0.5 0.5 0.5 0.5 0.5 0.5 0.5 0.5 0.5 0.5 0.5 0.5 0.5 0.5 0.5 0.5 0.5 0.5 0.5 0.5 0.5 0.5 0.5 0.5 0.5 0.5 0.5 0.5 0.5 0.5 0.5 0.5 0.5 0.5 0.5 0.5 0.5 0.5 0.5 0.5 0.5 0.5 0.5 0.5 0.5 0.5 0.5 0.5 0.5 0.5 0.5 0.5 0.5 0.5 0.5 0.5 0.5 0.5 0.5 0.5 0.5 0.5 0.5 0.5 0.5 0.5 0.5 0.5 0.5 0.5 0.5 0.5 0.5 0.5 0.5 0.5 0.5 0.5 0.5 0.5 0.5 0.5 0.5 0.5 0.5 0.5 0.5 0.5 0.5 0.5 0.5 0.5 0.5 0.5 0.5 0.5 0.5 0.5 0.5 0.5 0.5 0.5 0.5 0.5 0.5 0.5 0.5 0.5 0.5 0.5 0.5 0.5 0.5 0.5 0.5 0.5 0.5 0.5 0.5 0.5 0.5 0.5 0.5 0.5 0.5 0.5 0.5 0.5 0.5 0.5 0.5 0.5 0.5 0.5 0.5 0.5 0.5 0.5 0.5 0.5 0.5 0.5 0.5 0.5 0.5 0.5 0.5 0.5 0.5 0.5 0.5 0.5 0.5 0.5 0.5 0.5 0.5 0.5 0.5 0.5 0.5 0.5 0.5 0.5 0.5 0.5 0.5 0.5 0.5 0.5 0.5 0.5 0.5 0.5 0.5 0.5 0.5 0.5 0.5 0.5 0.5 0.5 0.5 0.5 0.5 0.5 0.5 0.5 0.5 0.5 0.5 0.5 0.5 0.5 0.5 0.5 0.5 0.5 0.5 0.5 0.5 0.5 0.5 0.5 0.5 0.5 0.5 0.5 \n",
      "# Running simulation on rank 0\n",
      "# Checkpointing simulation after testing on rank 1\n",
      "# Checkpointing simulation after testing on rank 2\n",
      "# Checkpointing simulation after testing on rank 3\n",
      "# Checkpointing simulation after testing on rank 5\n",
      "# Checkpointing simulation after testing on rank 6\n",
      "# Checkpointing simulation after testing on rank 7\n",
      "# Checkpointing simulation after testing on rank 9\n",
      "# Checkpointing simulation after testing on rank 0\n",
      "# Checkpointing simulation after testing on rank 4\n",
      "# Checkpointing simulation after testing on rank 8\n",
      "Simulation ran for 14082 steps.\n",
      "# Result:\n",
      "DensDens_CorrFun: [0.506058,..256..,0.105488] #1403 +/-[inf,..256..,inf] Tau:[0,..256..,1.11022e-16]\n",
      "Density_Distribution: [0.444761,..256..,0.383464] #1403 +/-[inf,..256..,inf] Tau:[0,..256..,0]\n",
      "Density_Matrix: [0.458036,..256..,0.383321] #1403 +/-[inf,..256..,inf] Tau:[0,..256..,0]\n",
      "Kinetic_Energy: -214.973 #14082 +/-0.100164 Tau:3.38052\n",
      "Number_of_particles: 117.78 #14082 +/-0.0349408 Tau:3.35291\n",
      "Number_of_particles_squared: 13874.3 #14082 +/-8.21601 Tau:3.3525\n",
      "Potential_Energy: 69.8953 #14082 +/-0.195267 Tau:3.34029\n",
      "Total_Energy: -145.078 #14082 +/-0.196976 Tau:3.34124\n",
      "Winding_number_squared: [8.15467,9.17327] #14082 +/-[0.297213,0.284962] Tau:[3.32352,3.25853]\n",
      "\n",
      "# Finished.\n"
     ]
    }
   ],
   "source": [
    "from worm.helpers.sim import WormInputParameters, WormSimulation\n",
    "import numpy as np\n",
    "from pathlib import Path\n",
    "\n",
    "mu = np.zeros((16, 16))\n",
    "mu[3:10,3:10] = 1\n",
    "\n",
    "\n",
    "p = WormInputParameters(Lx=mu.shape[0],Ly=mu.shape[1],t_hop=0.5,U_on=2.0,V_nn=1.0,thermalization=1000,mu=mu,sweeps=10000)\n",
    "\n",
    "save_dir=Path(\"/Users/fabian/paper/worm/runs/test_3\")\n",
    "import shutil\n",
    "\n",
    "shutil.rmtree(save_dir,ignore_errors=True)\n",
    "sim = WormSimulation(p,njobs=10,worm_executable=\"/Users/fabian/paper/worm/build_non_uniform/qmc_worm_mpi\",save_dir=Path(\"/Users/fabian/paper/worm/runs/test_3\"))\n",
    "\n",
    "sim.save_parameters()\n",
    "sim.run()"
   ]
  },
  {
   "cell_type": "code",
   "execution_count": 4,
   "metadata": {},
   "outputs": [
    {
     "data": {
      "text/plain": [
       "<matplotlib.colorbar.Colorbar at 0x12470cd10>"
      ]
     },
     "execution_count": 4,
     "metadata": {},
     "output_type": "execute_result"
    },
    {
     "data": {
      "image/png": "[encoded data removed]",
      "text/plain": [
       "<Figure size 640x480 with 2 Axes>"
      ]
     },
     "metadata": {},
     "output_type": "display_data"
    }
   ],
   "source": [
    "results = sim.get_results()\n",
    "\n",
    "import matplotlib.pyplot as plt\n",
    "plt.imshow(results.observables[\"Density_Distribution\"][\"mean\"][\"value\"].reshape(16,16))\n",
    "plt.colorbar()"
   ]
  },
  {
   "cell_type": "code",
   "execution_count": 22,
   "metadata": {},
   "outputs": [
    {
     "data": {
      "text/plain": [
       "dict_keys(['DensDens_CorrFun', 'Density_Distribution', 'Density_Matrix', 'Kinetic_Energy', 'Number_of_particles', 'Number_of_particles_squared', 'Potential_Energy', 'Total_Energy', 'Winding_number_squared'])"
      ]
     },
     "execution_count": 22,
     "metadata": {},
     "output_type": "execute_result"
    }
   ],
   "source": [
    "results.observables.keys()"
   ]
  },
  {
   "cell_type": "code",
   "execution_count": null,
   "metadata": {},
   "outputs": [],
   "source": []
  }
 ],
 "metadata": {
  "kernelspec": {
   "display_name": "aub-env",
   "language": "python",
   "name": "python3"
  },
  "language_info": {
   "codemirror_mode": {
    "name": "ipython",
    "version": 3
   },
   "file_extension": ".py",
   "mimetype": "text/x-python",
   "name": "python",
   "nbconvert_exporter": "python",
   "pygments_lexer": "ipython3",
   "version": "3.11.3"
  },
  "orig_nbformat": 4
 },
 "nbformat": 4,
 "nbformat_minor": 2
}
